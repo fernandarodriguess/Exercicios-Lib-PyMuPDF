{
  "nbformat": 4,
  "nbformat_minor": 0,
  "metadata": {
    "colab": {
      "provenance": []
    },
    "kernelspec": {
      "name": "python3",
      "display_name": "Python 3"
    },
    "language_info": {
      "name": "python"
    }
  },
  "cells": [
    {
      "cell_type": "code",
      "execution_count": null,
      "metadata": {
        "colab": {
          "base_uri": "https://localhost:8080/"
        },
        "id": "P5IBQRfE5q13",
        "outputId": "830653d4-b6af-4cd6-e8f0-336c7ebae780"
      },
      "outputs": [
        {
          "output_type": "stream",
          "name": "stdout",
          "text": [
            "Collecting pymupdf\n",
            "  Downloading PyMuPDF-1.24.11-cp38-abi3-manylinux2014_x86_64.manylinux_2_17_x86_64.whl.metadata (3.4 kB)\n",
            "Downloading PyMuPDF-1.24.11-cp38-abi3-manylinux2014_x86_64.manylinux_2_17_x86_64.whl (19.6 MB)\n",
            "\u001b[2K   \u001b[90m━━━━━━━━━━━━━━━━━━━━━━━━━━━━━━━━━━━━━━━━\u001b[0m \u001b[32m19.6/19.6 MB\u001b[0m \u001b[31m47.0 MB/s\u001b[0m eta \u001b[36m0:00:00\u001b[0m\n",
            "\u001b[?25hInstalling collected packages: pymupdf\n",
            "Successfully installed pymupdf-1.24.11\n"
          ]
        }
      ],
      "source": [
        "!pip install --upgrade pymupdf"
      ]
    },
    {
      "cell_type": "code",
      "source": [
        "import pymupdf"
      ],
      "metadata": {
        "id": "oYRLBJxNhjGs"
      },
      "execution_count": null,
      "outputs": []
    },
    {
      "cell_type": "markdown",
      "source": [
        "# JUNÇÃO DE PDFs"
      ],
      "metadata": {
        "id": "yzVHyq1VCdpt"
      }
    },
    {
      "cell_type": "code",
      "source": [
        "doc_a = pymupdf.open(\"test_lib.pdf\")\n",
        "doc_b = pymupdf.open(\"test_lib_2.pdf\")\n",
        "\n",
        "doc_a.insert_pdf(doc_b)\n",
        "doc_a.save(\"junção.pdf\")\n",
        "\n"
      ],
      "metadata": {
        "id": "oxUCRfzT8NrT"
      },
      "execution_count": null,
      "outputs": []
    },
    {
      "cell_type": "markdown",
      "source": [
        "# INSERÇÃO DE MARCA D'ÁGUA"
      ],
      "metadata": {
        "id": "cFnevDL6CEvt"
      }
    },
    {
      "cell_type": "code",
      "source": [
        "doc = pymupdf.open(\"junção.pdf\")\n",
        "\n",
        "for page_index in range(len(doc)):\n",
        "  page = doc[page_index]\n",
        "\n",
        "  page.insert_image(page.bound(),filename=\"logotest.png\", overlay=False)\n",
        "\n",
        "doc.save(\"doc+junção+imag.pdf\")"
      ],
      "metadata": {
        "id": "cV1TvbY4AU60"
      },
      "execution_count": null,
      "outputs": []
    },
    {
      "cell_type": "markdown",
      "source": [
        "# EXTRAÇÃO DE TEXTO"
      ],
      "metadata": {
        "id": "Tle0shGPCrkp"
      }
    },
    {
      "cell_type": "code",
      "source": [
        "doc = pymupdf.open(\"junção.pdf\")\n",
        "out = open(\"saída.txt\", \"wb\")\n",
        "for page in doc:\n",
        "    text = page.get_text().encode(\"utf8\")\n",
        "    out.write(text)\n",
        "    out.write(bytes((12,)))\n",
        "out.close()"
      ],
      "metadata": {
        "id": "HtIAqA9bCkeg"
      },
      "execution_count": null,
      "outputs": []
    },
    {
      "cell_type": "markdown",
      "source": [
        "#EXTRAÇÃO DE IMAGENS"
      ],
      "metadata": {
        "id": "Jl3QwQhTc0Em"
      }
    },
    {
      "cell_type": "code",
      "source": [
        "doc = pymupdf.open(\"pdf_img_test.pdf\")\n",
        "\n",
        "for page_index in range(len(doc)):\n",
        "    page = doc[page_index]\n",
        "    image_list = page.get_images()\n",
        "\n",
        "    if image_list:\n",
        "        print(f\"Encontrada {len(image_list)} imagens na página {page_index}\")\n",
        "    else:\n",
        "        print(f\"Sem imagens na página {page_index}\")\n",
        "\n",
        "    for image_index, img in enumerate(image_list):\n",
        "      xref = img[0]\n",
        "      pix = pymupdf.Pixmap(doc, xref)\n",
        "\n",
        "      if pix.n - pix.alpha > 3:\n",
        "         pix = pymupdf.Pixmap(pymupdf.csRGB, pix)\n",
        "\n",
        "      pix.save(\"page_%s-image_%s.png\" % (page_index, image_index))\n",
        "      pix = None"
      ],
      "metadata": {
        "id": "sHz_0z4Fc26d",
        "colab": {
          "base_uri": "https://localhost:8080/"
        },
        "outputId": "fa271d84-1c2a-4b28-bcef-3fb2e19b1fbf"
      },
      "execution_count": null,
      "outputs": [
        {
          "output_type": "stream",
          "name": "stdout",
          "text": [
            "Encontrada 1 imagens na página 0\n",
            "Encontrada 1 imagens na página 1\n"
          ]
        }
      ]
    }
  ]
}